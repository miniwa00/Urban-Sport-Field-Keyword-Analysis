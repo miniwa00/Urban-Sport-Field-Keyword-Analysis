{
 "cells": [
  {
   "cell_type": "code",
   "execution_count": 1,
   "id": "3a5cd73d",
   "metadata": {},
   "outputs": [],
   "source": [
    "import pandas as pd\n",
    "import numpy as np\n",
    "import urllib.request\n",
    "from collections import Counter\n",
    "from sklearn.model_selection import train_test_split\n",
    "from tensorflow.keras.preprocessing.text import Tokenizer\n",
    "from tensorflow.keras.preprocessing.sequence import pad_sequences\n",
    "import re\n",
    "from tensorflow.keras.layers import Embedding, Dense, LSTM, Bidirectional\n",
    "from tensorflow.keras.models import Sequential\n",
    "from tensorflow.keras.models import load_model\n",
    "from tensorflow.keras.callbacks import EarlyStopping, ModelCheckpoint\n",
    "from pykospacing import Spacing\n",
    "import numpy as np\n",
    "from konlpy.tag import Okt\n",
    "import requests\n",
    "import json\n",
    "import time\n",
    "from collections import Counter\n",
    "from sklearn.feature_extraction.text import CountVectorizer\n",
    "from sklearn.feature_extraction.text import TfidfVectorizer\n",
    "import warnings\n",
    "import matplotlib.pyplot as plt\n",
    "from sklearn.decomposition import LatentDirichletAllocation\n",
    "import tensorflow as tf\n",
    "\n",
    "warnings.filterwarnings(\"ignore\")"
   ]
  },
  {
   "cell_type": "code",
   "execution_count": 2,
   "id": "f46d95ac",
   "metadata": {},
   "outputs": [],
   "source": [
    "df1 = pd.read_csv('경기도 풋살장.csv')\n",
    "df2 = pd.read_csv('서울 풋살장.csv')\n",
    "df3 = pd.read_csv('부산 풋살장.csv')\n",
    "df4 = pd.read_csv('대구 풋살장.csv')\n",
    "df5 = pd.read_csv('인천 풋살장.csv')\n",
    "df6 = pd.read_csv('대전 풋살장.csv')\n",
    "df7 = pd.read_csv('울산 풋살장.csv')\n",
    "df8 = pd.read_csv('제주 풋살장.csv')\n",
    "df9 = pd.read_csv('광주 풋살장.csv')\n",
    "df10 = pd.read_csv('고양 풋살장.csv')\n",
    "\n",
    "# 데이터 합치기\n",
    "df = pd.concat([df1, df2, df3, df4, df5, df6, df7, df8, df9, df10], ignore_index=True)\n",
    "df.to_csv('주요도시 풋살장.csv', index=False, encoding='utf-8-sig')"
   ]
  },
  {
   "cell_type": "code",
   "execution_count": 3,
   "id": "19b5676a",
   "metadata": {},
   "outputs": [],
   "source": [
    "# 비네이버 문자열 포함 행 모두 삭제\n",
    "df = df[~df['제목'].isin(['없음', '비네이버'])]\n",
    "df = df[~df['내용'].isin(['없음', '비네이버'])]\n",
    "df.reset_index(drop=True, inplace=True)"
   ]
  },
  {
   "cell_type": "code",
   "execution_count": 4,
   "id": "1fe1da8e",
   "metadata": {},
   "outputs": [],
   "source": [
    "df['제목'] = df['제목'].astype(str)\n",
    "df['내용'] = df['내용'].astype(str)"
   ]
  },
  {
   "cell_type": "code",
   "execution_count": 5,
   "id": "2f31d526",
   "metadata": {},
   "outputs": [],
   "source": [
    "df.drop_duplicates(subset = ['제목'], inplace=True) # 중복 제거\n",
    "df.drop_duplicates(subset = ['내용'], inplace=True) \n",
    "df['제목'] = df['제목'].str.replace(\"[^ㄱ-ㅎㅏ-ㅣ가-힣 ]\",\"\") # 한글을 제외하고 제거 \n",
    "df['내용'] = df['내용'].str.replace(\"[^ㄱ-ㅎㅏ-ㅣ가-힣 ]\",\"\") \n",
    "df['제목'] = df['제목'].str.replace('^ +', \"\") # 공백 제거\n",
    "df['내용'] = df['내용'].str.replace('^ +', \"\") \n",
    "df = df.dropna(how='any') # 결측지 일괄 제거"
   ]
  },
  {
   "cell_type": "code",
   "execution_count": 6,
   "id": "0c9af235",
   "metadata": {},
   "outputs": [
    {
     "data": {
      "text/html": [
       "<div>\n",
       "<style scoped>\n",
       "    .dataframe tbody tr th:only-of-type {\n",
       "        vertical-align: middle;\n",
       "    }\n",
       "\n",
       "    .dataframe tbody tr th {\n",
       "        vertical-align: top;\n",
       "    }\n",
       "\n",
       "    .dataframe thead th {\n",
       "        text-align: right;\n",
       "    }\n",
       "</style>\n",
       "<table border=\"1\" class=\"dataframe\">\n",
       "  <thead>\n",
       "    <tr style=\"text-align: right;\">\n",
       "      <th></th>\n",
       "      <th>제목</th>\n",
       "      <th>내용</th>\n",
       "    </tr>\n",
       "  </thead>\n",
       "  <tbody>\n",
       "    <tr>\n",
       "      <th>0</th>\n",
       "      <td>경기도풋살장 광주 풋살파크 오시는 길</td>\n",
       "      <td>주소  경기도 광주시 남한산성면 엄미리      풋살파크 경기도 광주시 남한산성면 ...</td>\n",
       "    </tr>\n",
       "    <tr>\n",
       "      <th>1</th>\n",
       "      <td>경기도 광주 풋살장 능평레포츠공원 풋살장 주차장 및 잔디 컨디션 사용후기</td>\n",
       "      <td>안녕하세요      뭅볼입니다 광주에 있는 풋살장은 이제 거의 다 가봤다고 생각했는...</td>\n",
       "    </tr>\n",
       "    <tr>\n",
       "      <th>2</th>\n",
       "      <td>경기도 풋살장 창업 빠른 속도로 늘어나는 축구동호회 붐</td>\n",
       "      <td>프랜차이즈 창업가맹영업리징 전문기업 이지스비즈 프창사  이 글은 이지스비즈 프창사가...</td>\n",
       "    </tr>\n",
       "    <tr>\n",
       "      <th>3</th>\n",
       "      <td>경기도 광주 초월읍 신월리  아카데미 풋살장 시공</td>\n",
       "      <td>시공 자재 및 장소 요약 시공장소 신월리  아카데미 풋살장 시공면적  시공잔디 킹터...</td>\n",
       "    </tr>\n",
       "    <tr>\n",
       "      <th>4</th>\n",
       "      <td>경기도 안양 가볼만한곳 안양새물공원 축구장 파크골프장 풋살장 테니스장 정보</td>\n",
       "      <td>축구장 파크골프장 풋살장 테니스장 정보 안양새물공원 안녕하세요 여행작가 리하파파입니...</td>\n",
       "    </tr>\n",
       "    <tr>\n",
       "      <th>...</th>\n",
       "      <td>...</td>\n",
       "      <td>...</td>\n",
       "    </tr>\n",
       "    <tr>\n",
       "      <th>7835</th>\n",
       "      <td>지상작전사령부 주임원사 챌린지코인입니다</td>\n",
       "      <td>지상작전사령부     전장의 중심 통일의 선봉 창설일 년 월 일지상작전사령부 상징명...</td>\n",
       "    </tr>\n",
       "    <tr>\n",
       "      <th>7837</th>\n",
       "      <td>카드뉴스 여름철 차광막 설치 야외구장 탄</td>\n",
       "      <td>여름철에도 건강하게 차광막 설치 풋살장 국민풋살앱 아이엠그라운드 추천 차광막 설치 ...</td>\n",
       "    </tr>\n",
       "    <tr>\n",
       "      <th>7839</th>\n",
       "      <td>리그 드림리그 개막 경기장소 시간 네이버유튜브중계 개월 애기엄마가 스트레스푸는법</td>\n",
       "      <td>이번주 당장 바로 내일 월일 지난 월입단 하고부터 기다린 리그가 개막을 합니다 근데...</td>\n",
       "    </tr>\n",
       "    <tr>\n",
       "      <th>7840</th>\n",
       "      <td>한강뷰 맛집 남양주 돈까스클럽 가족외식으로 딱이야</td>\n",
       "      <td>남양주돈까스클럽 남양주삼패동맛집 남양주가족외식 남양주돈까스맛집 큰애 축구훈련 끝나고...</td>\n",
       "    </tr>\n",
       "    <tr>\n",
       "      <th>7841</th>\n",
       "      <td>일산 일산 가볼 만한 곳  놀거리 소개</td>\n",
       "      <td>여러분 다들 잘 지내고 계신가요 본다빈치 서포터즈 기 라면입니다  오늘은 경기도 일...</td>\n",
       "    </tr>\n",
       "  </tbody>\n",
       "</table>\n",
       "<p>6953 rows × 2 columns</p>\n",
       "</div>"
      ],
      "text/plain": [
       "                                                제목  \\\n",
       "0                             경기도풋살장 광주 풋살파크 오시는 길   \n",
       "1         경기도 광주 풋살장 능평레포츠공원 풋살장 주차장 및 잔디 컨디션 사용후기   \n",
       "2                   경기도 풋살장 창업 빠른 속도로 늘어나는 축구동호회 붐   \n",
       "3                      경기도 광주 초월읍 신월리  아카데미 풋살장 시공   \n",
       "4        경기도 안양 가볼만한곳 안양새물공원 축구장 파크골프장 풋살장 테니스장 정보   \n",
       "...                                            ...   \n",
       "7835                         지상작전사령부 주임원사 챌린지코인입니다   \n",
       "7837                        카드뉴스 여름철 차광막 설치 야외구장 탄   \n",
       "7839  리그 드림리그 개막 경기장소 시간 네이버유튜브중계 개월 애기엄마가 스트레스푸는법   \n",
       "7840                   한강뷰 맛집 남양주 돈까스클럽 가족외식으로 딱이야   \n",
       "7841                         일산 일산 가볼 만한 곳  놀거리 소개   \n",
       "\n",
       "                                                     내용  \n",
       "0     주소  경기도 광주시 남한산성면 엄미리      풋살파크 경기도 광주시 남한산성면 ...  \n",
       "1     안녕하세요      뭅볼입니다 광주에 있는 풋살장은 이제 거의 다 가봤다고 생각했는...  \n",
       "2     프랜차이즈 창업가맹영업리징 전문기업 이지스비즈 프창사  이 글은 이지스비즈 프창사가...  \n",
       "3     시공 자재 및 장소 요약 시공장소 신월리  아카데미 풋살장 시공면적  시공잔디 킹터...  \n",
       "4     축구장 파크골프장 풋살장 테니스장 정보 안양새물공원 안녕하세요 여행작가 리하파파입니...  \n",
       "...                                                 ...  \n",
       "7835  지상작전사령부     전장의 중심 통일의 선봉 창설일 년 월 일지상작전사령부 상징명...  \n",
       "7837  여름철에도 건강하게 차광막 설치 풋살장 국민풋살앱 아이엠그라운드 추천 차광막 설치 ...  \n",
       "7839  이번주 당장 바로 내일 월일 지난 월입단 하고부터 기다린 리그가 개막을 합니다 근데...  \n",
       "7840  남양주돈까스클럽 남양주삼패동맛집 남양주가족외식 남양주돈까스맛집 큰애 축구훈련 끝나고...  \n",
       "7841  여러분 다들 잘 지내고 계신가요 본다빈치 서포터즈 기 라면입니다  오늘은 경기도 일...  \n",
       "\n",
       "[6953 rows x 2 columns]"
      ]
     },
     "execution_count": 6,
     "metadata": {},
     "output_type": "execute_result"
    }
   ],
   "source": [
    "df"
   ]
  },
  {
   "cell_type": "code",
   "execution_count": 7,
   "id": "d38c54b2",
   "metadata": {},
   "outputs": [],
   "source": [
    "shuffled_df = df.sample(frac=1, random_state=42)  # random_state는 재현성을 위한 시드 값입니다.\n",
    "shuffled_df = shuffled_df.reset_index(drop=True)"
   ]
  },
  {
   "cell_type": "code",
   "execution_count": 8,
   "id": "fd921848",
   "metadata": {},
   "outputs": [],
   "source": [
    "shuffled_df.to_csv('주요도시 풋살장 셔플.csv', index=False, encoding='utf-8-sig')"
   ]
  },
  {
   "cell_type": "markdown",
   "id": "628f4ec4",
   "metadata": {},
   "source": [
    "## 라벨링이 된 csv 파일 불러오기"
   ]
  },
  {
   "cell_type": "code",
   "execution_count": 9,
   "id": "ddc0eaa8",
   "metadata": {},
   "outputs": [],
   "source": [
    "label_df = pd.read_csv('주요도시 풋살장 셔플 라벨.csv', encoding='utf-8-sig')"
   ]
  },
  {
   "cell_type": "code",
   "execution_count": 10,
   "id": "7b725907",
   "metadata": {},
   "outputs": [],
   "source": [
    "label_df['제목'] = label_df['제목'].astype(str)\n",
    "label_df['내용'] = label_df['내용'].astype(str)"
   ]
  },
  {
   "cell_type": "code",
   "execution_count": 11,
   "id": "2b08e240",
   "metadata": {},
   "outputs": [
    {
     "data": {
      "text/html": [
       "<div>\n",
       "<style scoped>\n",
       "    .dataframe tbody tr th:only-of-type {\n",
       "        vertical-align: middle;\n",
       "    }\n",
       "\n",
       "    .dataframe tbody tr th {\n",
       "        vertical-align: top;\n",
       "    }\n",
       "\n",
       "    .dataframe thead th {\n",
       "        text-align: right;\n",
       "    }\n",
       "</style>\n",
       "<table border=\"1\" class=\"dataframe\">\n",
       "  <thead>\n",
       "    <tr style=\"text-align: right;\">\n",
       "      <th></th>\n",
       "      <th>Label</th>\n",
       "      <th>제목</th>\n",
       "      <th>내용</th>\n",
       "    </tr>\n",
       "  </thead>\n",
       "  <tbody>\n",
       "    <tr>\n",
       "      <th>5488</th>\n",
       "      <td>1</td>\n",
       "      <td>옥상 재테크 태양광 풋살장 루트톱바 변신 월 수백만원 임대료 수익 창출</td>\n",
       "      <td>옥상 재테크 태양광 풋살장 루트톱바 변신 월 수백만원 임대료 수익 창출 옥상이 금싸...</td>\n",
       "    </tr>\n",
       "    <tr>\n",
       "      <th>2855</th>\n",
       "      <td>1</td>\n",
       "      <td>풋살장휴공간측량</td>\n",
       "      <td>풋살장 조성 기존 노후된 풋살장을 새롭게 구상중이다 실 사용자와 관리자 감독관이 함...</td>\n",
       "    </tr>\n",
       "    <tr>\n",
       "      <th>2133</th>\n",
       "      <td>1</td>\n",
       "      <td>대구대구풋살장 대구 북구 에이스 풋살장</td>\n",
       "      <td>대구 북구에 위치하고 있는 에이스 풋살장입니다 지금은 태전동에서 국우동으로 이전했습...</td>\n",
       "    </tr>\n",
       "    <tr>\n",
       "      <th>37</th>\n",
       "      <td>1</td>\n",
       "      <td>양주 장흥 일영유원지 초원의 집 풋살장 축구장</td>\n",
       "      <td>일영유원지 장흥유원지 일영 초원의 집 일영 초원의 집 축구장 일영 초원의 집 풋살장...</td>\n",
       "    </tr>\n",
       "    <tr>\n",
       "      <th>2063</th>\n",
       "      <td>0</td>\n",
       "      <td>인조잔디 테니스장인조잔디 골프인조잔디 축구교실창업 풋살장창업 풋살장시공업체</td>\n",
       "      <td>안녕하세요 필드를 주름주는 사람들주식회사 스포츠 오딧세이입니다  체육시설 설계  인...</td>\n",
       "    </tr>\n",
       "    <tr>\n",
       "      <th>...</th>\n",
       "      <td>...</td>\n",
       "      <td>...</td>\n",
       "      <td>...</td>\n",
       "    </tr>\n",
       "    <tr>\n",
       "      <th>3772</th>\n",
       "      <td>1</td>\n",
       "      <td>대전축구클럽 슈퍼맨 실내축구아카데미 출동</td>\n",
       "      <td>안녕하세요 슈퍼맨 아카데미입니다 활동량이 많고 뛰어다니는 것을 좋아하며 친구들과 함...</td>\n",
       "    </tr>\n",
       "    <tr>\n",
       "      <th>5191</th>\n",
       "      <td>1</td>\n",
       "      <td>구로구 실내풋살장을 소개합니다</td>\n",
       "      <td>안녕하세요 실내풋살장 입니다 서울시 구로구 개봉동  매봉빌딩에 위치한 실내풋살장입니...</td>\n",
       "    </tr>\n",
       "    <tr>\n",
       "      <th>5226</th>\n",
       "      <td>1</td>\n",
       "      <td>대전축구교실 슈퍼맨아카데미 취미반 유소년을 위한 축구리그 개최</td>\n",
       "      <td>안녕하세요 대전축구교실 취미반 축구문화를 이끄는 대덕구 슈퍼맨축구아카데미 입니다 일...</td>\n",
       "    </tr>\n",
       "    <tr>\n",
       "      <th>5390</th>\n",
       "      <td>0</td>\n",
       "      <td>대전 프리즈비 모임     함께 할 횐님들을 모집합니다</td>\n",
       "      <td>대전소모임 대전운동모임 대전동호회 대전운동동호회 대전플라잉디스크 대전프리즈비 중고등...</td>\n",
       "    </tr>\n",
       "    <tr>\n",
       "      <th>860</th>\n",
       "      <td>0</td>\n",
       "      <td>울산 야음동태권도체육관 우진태권도 유치부 수업</td>\n",
       "      <td>접기펴기 유치부 수업 야음동태권도 야음동체육관 우진 우진태권도 우진태권도장 명품태권...</td>\n",
       "    </tr>\n",
       "  </tbody>\n",
       "</table>\n",
       "<p>6956 rows × 3 columns</p>\n",
       "</div>"
      ],
      "text/plain": [
       "      Label                                         제목  \\\n",
       "5488      1    옥상 재테크 태양광 풋살장 루트톱바 변신 월 수백만원 임대료 수익 창출   \n",
       "2855      1                                   풋살장휴공간측량   \n",
       "2133      1                      대구대구풋살장 대구 북구 에이스 풋살장   \n",
       "37        1                  양주 장흥 일영유원지 초원의 집 풋살장 축구장   \n",
       "2063      0  인조잔디 테니스장인조잔디 골프인조잔디 축구교실창업 풋살장창업 풋살장시공업체   \n",
       "...     ...                                        ...   \n",
       "3772      1                     대전축구클럽 슈퍼맨 실내축구아카데미 출동   \n",
       "5191      1                           구로구 실내풋살장을 소개합니다   \n",
       "5226      1         대전축구교실 슈퍼맨아카데미 취미반 유소년을 위한 축구리그 개최   \n",
       "5390      0            대전 프리즈비 모임     함께 할 횐님들을 모집합니다    \n",
       "860       0                  울산 야음동태권도체육관 우진태권도 유치부 수업   \n",
       "\n",
       "                                                     내용  \n",
       "5488  옥상 재테크 태양광 풋살장 루트톱바 변신 월 수백만원 임대료 수익 창출 옥상이 금싸...  \n",
       "2855  풋살장 조성 기존 노후된 풋살장을 새롭게 구상중이다 실 사용자와 관리자 감독관이 함...  \n",
       "2133  대구 북구에 위치하고 있는 에이스 풋살장입니다 지금은 태전동에서 국우동으로 이전했습...  \n",
       "37    일영유원지 장흥유원지 일영 초원의 집 일영 초원의 집 축구장 일영 초원의 집 풋살장...  \n",
       "2063  안녕하세요 필드를 주름주는 사람들주식회사 스포츠 오딧세이입니다  체육시설 설계  인...  \n",
       "...                                                 ...  \n",
       "3772  안녕하세요 슈퍼맨 아카데미입니다 활동량이 많고 뛰어다니는 것을 좋아하며 친구들과 함...  \n",
       "5191  안녕하세요 실내풋살장 입니다 서울시 구로구 개봉동  매봉빌딩에 위치한 실내풋살장입니...  \n",
       "5226  안녕하세요 대전축구교실 취미반 축구문화를 이끄는 대덕구 슈퍼맨축구아카데미 입니다 일...  \n",
       "5390  대전소모임 대전운동모임 대전동호회 대전운동동호회 대전플라잉디스크 대전프리즈비 중고등...  \n",
       "860   접기펴기 유치부 수업 야음동태권도 야음동체육관 우진 우진태권도 우진태권도장 명품태권...  \n",
       "\n",
       "[6956 rows x 3 columns]"
      ]
     },
     "execution_count": 11,
     "metadata": {},
     "output_type": "execute_result"
    }
   ],
   "source": [
    "label_df = label_df.sample(frac=1, random_state=42)\n",
    "label_df"
   ]
  },
  {
   "cell_type": "markdown",
   "id": "88d85c05",
   "metadata": {},
   "source": [
    "## Preprocess titles"
   ]
  },
  {
   "cell_type": "code",
   "execution_count": 12,
   "id": "5124b76f",
   "metadata": {},
   "outputs": [],
   "source": [
    "titles = label_df['제목'].tolist()"
   ]
  },
  {
   "cell_type": "code",
   "execution_count": 13,
   "id": "e52180cc",
   "metadata": {},
   "outputs": [],
   "source": [
    "def preprocess(documents):\n",
    "    # 불용어 불러오기\n",
    "    with open('stopwords.txt', 'r', encoding='utf-8') as f:\n",
    "        stopwords = f.read().splitlines()\n",
    "\n",
    "    # 텍스트 전처리\n",
    "    okt = Okt()\n",
    "    preprocessed = []\n",
    "    for doc in documents:\n",
    "        # 형태소 분석\n",
    "        lemmatized = okt.nouns(doc)\n",
    "        # 불용어 제거 및 토큰화\n",
    "        tokens = [word for word in lemmatized if word not in stopwords]\n",
    "        preprocessed.append(' '.join(tokens))\n",
    "\n",
    "    return preprocessed"
   ]
  },
  {
   "cell_type": "code",
   "execution_count": 14,
   "id": "ccb195de",
   "metadata": {},
   "outputs": [],
   "source": [
    "new_titles = preprocess(titles)"
   ]
  },
  {
   "cell_type": "markdown",
   "id": "98eebd0e",
   "metadata": {},
   "source": [
    "## word dictionary 생성"
   ]
  },
  {
   "cell_type": "code",
   "execution_count": 15,
   "id": "617b0caa",
   "metadata": {},
   "outputs": [],
   "source": [
    "## Make a function that conduct this process\n",
    "def get_vocab_dict(sents):\n",
    "    word_to_idx = dict()\n",
    "    idx_to_word = dict()\n",
    "    index = 1\n",
    "    for sent in sents:\n",
    "        words = sent.split(' ')\n",
    "        for word in words:\n",
    "            if word not in word_to_idx.keys():\n",
    "                word_to_idx[word] = index\n",
    "                idx_to_word[index] = word\n",
    "                index+=1\n",
    "    return word_to_idx, idx_to_word"
   ]
  },
  {
   "cell_type": "code",
   "execution_count": 16,
   "id": "1a1a0aa7",
   "metadata": {},
   "outputs": [],
   "source": [
    "word_to_idx, idx_to_word = get_vocab_dict(new_titles)\n",
    "word_to_idx['<pad>'] = 0\n",
    "idx_to_word[0] = '<pad>'"
   ]
  },
  {
   "cell_type": "markdown",
   "id": "5fe0f31e",
   "metadata": {},
   "source": [
    "## Integer Encoding"
   ]
  },
  {
   "cell_type": "code",
   "execution_count": 17,
   "id": "8effa997",
   "metadata": {},
   "outputs": [],
   "source": [
    "def integer_encoding(sents, word_to_idx):\n",
    "    results = []\n",
    "    for sent in sents:\n",
    "        words = sent.split(' ')\n",
    "        result = [word_to_idx[word] for word in words]\n",
    "        results.append(result)\n",
    "    return results"
   ]
  },
  {
   "cell_type": "code",
   "execution_count": 18,
   "id": "6f52a8ef",
   "metadata": {},
   "outputs": [],
   "source": [
    "integer_sents = integer_encoding(new_titles, word_to_idx)"
   ]
  },
  {
   "cell_type": "code",
   "execution_count": 19,
   "id": "cbdbee05",
   "metadata": {},
   "outputs": [],
   "source": [
    "X_train = integer_sents[:4900]\n",
    "X_test = integer_sents[4900:]\n",
    "y_train = label_df['Label'][:4900].tolist()\n",
    "y_test = label_df['Label'][4900:].tolist()"
   ]
  },
  {
   "cell_type": "markdown",
   "id": "d71c332d",
   "metadata": {},
   "source": [
    "## Padding"
   ]
  },
  {
   "cell_type": "code",
   "execution_count": 20,
   "id": "7aac533a",
   "metadata": {},
   "outputs": [
    {
     "name": "stdout",
     "output_type": "stream",
     "text": [
      "제목의 최대 길이 : 2950\n",
      "제목의 평균 길이 : 9.712244897959184\n"
     ]
    }
   ],
   "source": [
    "print('제목의 최대 길이 :',max(len(i) for i in X_train))\n",
    "print('제목의 평균 길이 :',sum(map(len, X_train))/len(X_train))"
   ]
  },
  {
   "cell_type": "code",
   "execution_count": 21,
   "id": "f1ffc6f7",
   "metadata": {},
   "outputs": [],
   "source": [
    "def below_threshold_len(max_len, nested_list):\n",
    "  count = 0\n",
    "  for sentence in nested_list:\n",
    "    if(len(sentence) <= max_len):\n",
    "        count = count + 1\n",
    "  print('전체 샘플 중 길이가 %s 이하인 샘플의 비율: %s'%(max_len, (count / len(nested_list))*100))"
   ]
  },
  {
   "cell_type": "code",
   "execution_count": 22,
   "id": "c44fe863",
   "metadata": {},
   "outputs": [
    {
     "name": "stdout",
     "output_type": "stream",
     "text": [
      "전체 샘플 중 길이가 25 이하인 샘플의 비율: 98.42857142857143\n"
     ]
    }
   ],
   "source": [
    "max_len = 25\n",
    "below_threshold_len(max_len, X_train)"
   ]
  },
  {
   "cell_type": "code",
   "execution_count": 23,
   "id": "9586602e",
   "metadata": {},
   "outputs": [],
   "source": [
    "# 총장을 25로 두고 패딩 실시\n",
    "X_train_padded = pad_sequences(X_train, maxlen=max_len)\n",
    "X_test_padded = pad_sequences(X_test, maxlen=max_len)"
   ]
  },
  {
   "cell_type": "code",
   "execution_count": 24,
   "id": "4d0e9938",
   "metadata": {},
   "outputs": [],
   "source": [
    "# model이 읽을 수 있도록 tensor 형태로 변환\n",
    "X_train_tensor = tf.convert_to_tensor(X_train_padded)\n",
    "X_test_tensor = tf.convert_to_tensor(X_test_padded)\n",
    "y_train_tensor = tf.convert_to_tensor(y_train)\n",
    "y_test_tensor = tf.convert_to_tensor(y_test)"
   ]
  },
  {
   "cell_type": "markdown",
   "id": "63c4edcb",
   "metadata": {},
   "source": [
    "## Vanilla LSTM Classifier 정의"
   ]
  },
  {
   "cell_type": "code",
   "execution_count": 25,
   "id": "2a0a88ab",
   "metadata": {},
   "outputs": [],
   "source": [
    "embedding_dim = 100\n",
    "hidden_units = 128"
   ]
  },
  {
   "cell_type": "code",
   "execution_count": 26,
   "id": "a04ae41f",
   "metadata": {},
   "outputs": [],
   "source": [
    "model = Sequential()\n",
    "model.add(Embedding(len(word_to_idx), embedding_dim)) # 7386 -> 100\n",
    "model.add(LSTM(hidden_units))\n",
    "model.add(Dense(1, activation='sigmoid'))"
   ]
  },
  {
   "cell_type": "code",
   "execution_count": 27,
   "id": "8a429180",
   "metadata": {},
   "outputs": [],
   "source": [
    "es = EarlyStopping(monitor='val_loss', mode='min', verbose=1, patience=4)\n",
    "mc = ModelCheckpoint('best_model.h5', monitor='val_acc', mode='max', verbose=1, save_best_only=True)"
   ]
  },
  {
   "cell_type": "code",
   "execution_count": 28,
   "id": "a35d57af",
   "metadata": {
    "scrolled": true
   },
   "outputs": [
    {
     "name": "stdout",
     "output_type": "stream",
     "text": [
      "Epoch 1/15\n",
      "15/16 [===========================>..] - ETA: 0s - loss: 0.6021 - acc: 0.6445\n",
      "Epoch 1: val_acc improved from -inf to 0.79796, saving model to best_model.h5\n",
      "16/16 [==============================] - 3s 97ms/step - loss: 0.5993 - acc: 0.6454 - val_loss: 0.4542 - val_acc: 0.7980\n",
      "Epoch 2/15\n",
      "15/16 [===========================>..] - ETA: 0s - loss: 0.3483 - acc: 0.8799\n",
      "Epoch 2: val_acc improved from 0.79796 to 0.92857, saving model to best_model.h5\n",
      "16/16 [==============================] - 1s 64ms/step - loss: 0.3464 - acc: 0.8821 - val_loss: 0.2955 - val_acc: 0.9286\n",
      "Epoch 3/15\n",
      "15/16 [===========================>..] - ETA: 0s - loss: 0.2023 - acc: 0.9565\n",
      "Epoch 3: val_acc did not improve from 0.92857\n",
      "16/16 [==============================] - 1s 60ms/step - loss: 0.2012 - acc: 0.9566 - val_loss: 0.2577 - val_acc: 0.8786\n",
      "Epoch 4/15\n",
      "15/16 [===========================>..] - ETA: 0s - loss: 0.1405 - acc: 0.9602\n",
      "Epoch 4: val_acc improved from 0.92857 to 0.93571, saving model to best_model.h5\n",
      "16/16 [==============================] - 1s 62ms/step - loss: 0.1414 - acc: 0.9599 - val_loss: 0.1803 - val_acc: 0.9357\n",
      "Epoch 5/15\n",
      "15/16 [===========================>..] - ETA: 0s - loss: 0.0878 - acc: 0.9776\n",
      "Epoch 5: val_acc improved from 0.93571 to 0.94694, saving model to best_model.h5\n",
      "16/16 [==============================] - 1s 67ms/step - loss: 0.0869 - acc: 0.9781 - val_loss: 0.1552 - val_acc: 0.9469\n",
      "Epoch 6/15\n",
      "15/16 [===========================>..] - ETA: 0s - loss: 0.0654 - acc: 0.9859\n",
      "Epoch 6: val_acc did not improve from 0.94694\n",
      "16/16 [==============================] - 1s 66ms/step - loss: 0.0647 - acc: 0.9862 - val_loss: 0.1644 - val_acc: 0.9357\n",
      "Epoch 7/15\n",
      "15/16 [===========================>..] - ETA: 0s - loss: 0.0416 - acc: 0.9909\n",
      "Epoch 7: val_acc did not improve from 0.94694\n",
      "16/16 [==============================] - 1s 61ms/step - loss: 0.0414 - acc: 0.9911 - val_loss: 0.1696 - val_acc: 0.9378\n",
      "Epoch 8/15\n",
      "15/16 [===========================>..] - ETA: 0s - loss: 0.0344 - acc: 0.9911\n",
      "Epoch 8: val_acc did not improve from 0.94694\n",
      "16/16 [==============================] - 1s 67ms/step - loss: 0.0339 - acc: 0.9913 - val_loss: 0.1683 - val_acc: 0.9398\n",
      "Epoch 9/15\n",
      "15/16 [===========================>..] - ETA: 0s - loss: 0.0204 - acc: 0.9953\n",
      "Epoch 9: val_acc did not improve from 0.94694\n",
      "16/16 [==============================] - 1s 61ms/step - loss: 0.0201 - acc: 0.9954 - val_loss: 0.1716 - val_acc: 0.9418\n",
      "Epoch 9: early stopping\n"
     ]
    }
   ],
   "source": [
    "model.compile(optimizer='rmsprop', loss='binary_crossentropy', metrics=['acc'])\n",
    "history = model.fit(X_train_tensor, y_train_tensor, epochs=15, callbacks=[es, mc], batch_size=256, validation_split=0.2)"
   ]
  },
  {
   "cell_type": "code",
   "execution_count": 29,
   "id": "88332341",
   "metadata": {},
   "outputs": [
    {
     "name": "stdout",
     "output_type": "stream",
     "text": [
      "65/65 [==============================] - 1s 5ms/step - loss: 0.1410 - acc: 0.9489\n",
      "테스트 정확도: 0.9489\n"
     ]
    }
   ],
   "source": [
    "loaded_model = load_model('best_model.h5')\n",
    "print(\"테스트 정확도: %.4f\" % (loaded_model.evaluate(X_test_tensor, y_test_tensor)[1]))"
   ]
  },
  {
   "cell_type": "markdown",
   "id": "f49aa5a4",
   "metadata": {},
   "source": [
    "## 테스트 데이터를 분류하는 실험"
   ]
  },
  {
   "cell_type": "code",
   "execution_count": 30,
   "id": "54f07c07",
   "metadata": {},
   "outputs": [],
   "source": [
    "futsal_test = pd.read_csv('풋살 테스트.csv')\n",
    "futsal_answer = pd.read_csv('풋살 테스트 정답.csv')"
   ]
  },
  {
   "cell_type": "code",
   "execution_count": 31,
   "id": "6455f1e4",
   "metadata": {},
   "outputs": [],
   "source": [
    "new_titles = futsal_test['제목'].tolist()"
   ]
  },
  {
   "cell_type": "code",
   "execution_count": 32,
   "id": "9655de42",
   "metadata": {},
   "outputs": [],
   "source": [
    "# 전처리\n",
    "new_titles = preprocess(new_titles)\n",
    "# word dictionary 생성\n",
    "word_to_idx, idx_to_word = get_vocab_dict(new_titles)\n",
    "word_to_idx['<pad>'] = 0\n",
    "idx_to_word[0] = '<pad>'\n",
    "# integer encoding\n",
    "integer_sents = integer_encoding(new_titles, word_to_idx)\n",
    "# padding\n",
    "pad_new = pad_sequences(integer_sents, maxlen = max_len)"
   ]
  },
  {
   "cell_type": "code",
   "execution_count": 33,
   "id": "d789a8a9",
   "metadata": {
    "scrolled": true
   },
   "outputs": [
    {
     "name": "stdout",
     "output_type": "stream",
     "text": [
      "4/4 [==============================] - 0s 5ms/step\n",
      "4/4 [==============================] - 0s 4ms/step\n",
      "4/4 [==============================] - 0s 5ms/step\n",
      "4/4 [==============================] - 0s 5ms/step\n",
      "4/4 [==============================] - 0s 5ms/step\n",
      "4/4 [==============================] - 0s 5ms/step\n",
      "4/4 [==============================] - 0s 5ms/step\n",
      "4/4 [==============================] - 0s 5ms/step\n",
      "4/4 [==============================] - 0s 5ms/step\n",
      "4/4 [==============================] - 0s 5ms/step\n",
      "4/4 [==============================] - 0s 5ms/step\n",
      "4/4 [==============================] - 0s 4ms/step\n",
      "4/4 [==============================] - 0s 5ms/step\n",
      "4/4 [==============================] - 0s 4ms/step\n",
      "4/4 [==============================] - 0s 4ms/step\n",
      "4/4 [==============================] - 0s 4ms/step\n",
      "4/4 [==============================] - 0s 5ms/step\n",
      "4/4 [==============================] - 0s 4ms/step\n",
      "4/4 [==============================] - 0s 4ms/step\n",
      "4/4 [==============================] - 0s 4ms/step\n",
      "4/4 [==============================] - 0s 5ms/step\n",
      "4/4 [==============================] - 0s 7ms/step\n",
      "4/4 [==============================] - 0s 6ms/step\n",
      "4/4 [==============================] - 0s 6ms/step\n",
      "4/4 [==============================] - 0s 5ms/step\n",
      "4/4 [==============================] - 0s 5ms/step\n",
      "4/4 [==============================] - 0s 4ms/step\n",
      "4/4 [==============================] - 0s 5ms/step\n",
      "4/4 [==============================] - 0s 5ms/step\n",
      "4/4 [==============================] - 0s 5ms/step\n",
      "4/4 [==============================] - 0s 5ms/step\n",
      "4/4 [==============================] - 0s 7ms/step\n",
      "4/4 [==============================] - 0s 4ms/step\n",
      "4/4 [==============================] - 0s 6ms/step\n",
      "4/4 [==============================] - 0s 7ms/step\n",
      "4/4 [==============================] - 0s 5ms/step\n",
      "4/4 [==============================] - 0s 5ms/step\n",
      "4/4 [==============================] - 0s 6ms/step\n",
      "4/4 [==============================] - 0s 6ms/step\n",
      "4/4 [==============================] - 0s 5ms/step\n",
      "4/4 [==============================] - 0s 7ms/step\n",
      "4/4 [==============================] - 0s 5ms/step\n",
      "4/4 [==============================] - 0s 7ms/step\n",
      "4/4 [==============================] - 0s 5ms/step\n",
      "4/4 [==============================] - 0s 4ms/step\n",
      "4/4 [==============================] - 0s 4ms/step\n",
      "4/4 [==============================] - 0s 5ms/step\n",
      "4/4 [==============================] - 0s 5ms/step\n",
      "4/4 [==============================] - 0s 7ms/step\n",
      "4/4 [==============================] - 0s 5ms/step\n",
      "4/4 [==============================] - 0s 5ms/step\n",
      "4/4 [==============================] - 0s 5ms/step\n",
      "4/4 [==============================] - 0s 5ms/step\n",
      "4/4 [==============================] - 0s 7ms/step\n",
      "4/4 [==============================] - 0s 6ms/step\n",
      "4/4 [==============================] - 0s 5ms/step\n",
      "4/4 [==============================] - 0s 5ms/step\n",
      "4/4 [==============================] - 0s 6ms/step\n",
      "4/4 [==============================] - 0s 7ms/step\n",
      "4/4 [==============================] - 0s 7ms/step\n",
      "4/4 [==============================] - 0s 7ms/step\n",
      "4/4 [==============================] - 0s 6ms/step\n",
      "4/4 [==============================] - 0s 7ms/step\n",
      "4/4 [==============================] - 0s 6ms/step\n",
      "4/4 [==============================] - 0s 8ms/step\n",
      "4/4 [==============================] - 0s 7ms/step\n",
      "4/4 [==============================] - 0s 7ms/step\n",
      "4/4 [==============================] - 0s 7ms/step\n",
      "4/4 [==============================] - 0s 7ms/step\n",
      "4/4 [==============================] - 0s 7ms/step\n",
      "4/4 [==============================] - 0s 7ms/step\n",
      "4/4 [==============================] - 0s 7ms/step\n",
      "4/4 [==============================] - 0s 9ms/step\n",
      "4/4 [==============================] - 0s 9ms/step\n",
      "4/4 [==============================] - 0s 6ms/step\n",
      "4/4 [==============================] - 0s 6ms/step\n",
      "4/4 [==============================] - 0s 6ms/step\n",
      "4/4 [==============================] - 0s 6ms/step\n",
      "4/4 [==============================] - 0s 5ms/step\n",
      "4/4 [==============================] - 0s 6ms/step\n",
      "4/4 [==============================] - 0s 6ms/step\n",
      "4/4 [==============================] - 0s 6ms/step\n",
      "4/4 [==============================] - 0s 6ms/step\n",
      "4/4 [==============================] - 0s 5ms/step\n",
      "4/4 [==============================] - 0s 6ms/step\n",
      "4/4 [==============================] - 0s 7ms/step\n",
      "4/4 [==============================] - 0s 5ms/step\n",
      "4/4 [==============================] - 0s 8ms/step\n",
      "4/4 [==============================] - 0s 6ms/step\n",
      "4/4 [==============================] - 0s 8ms/step\n",
      "4/4 [==============================] - 0s 8ms/step\n",
      "4/4 [==============================] - 0s 6ms/step\n",
      "4/4 [==============================] - 0s 8ms/step\n",
      "4/4 [==============================] - 0s 5ms/step\n",
      "4/4 [==============================] - 0s 6ms/step\n",
      "4/4 [==============================] - 0s 6ms/step\n",
      "4/4 [==============================] - 0s 6ms/step\n",
      "4/4 [==============================] - 0s 5ms/step\n",
      "4/4 [==============================] - 0s 7ms/step\n",
      "4/4 [==============================] - 0s 8ms/step\n",
      "4/4 [==============================] - 0s 7ms/step\n",
      "4/4 [==============================] - 0s 6ms/step\n",
      "4/4 [==============================] - 0s 4ms/step\n",
      "4/4 [==============================] - 0s 5ms/step\n",
      "4/4 [==============================] - 0s 5ms/step\n",
      "4/4 [==============================] - 0s 6ms/step\n",
      "4/4 [==============================] - 0s 5ms/step\n",
      "4/4 [==============================] - 0s 5ms/step\n",
      "4/4 [==============================] - 0s 14ms/step\n",
      "4/4 [==============================] - 0s 8ms/step\n",
      "4/4 [==============================] - 0s 7ms/step\n",
      "4/4 [==============================] - 0s 6ms/step\n",
      "4/4 [==============================] - 0s 6ms/step\n",
      "4/4 [==============================] - 0s 7ms/step\n",
      "4/4 [==============================] - 0s 7ms/step\n",
      "4/4 [==============================] - 0s 5ms/step\n",
      "4/4 [==============================] - 0s 6ms/step\n",
      "4/4 [==============================] - 0s 7ms/step\n",
      "4/4 [==============================] - 0s 6ms/step\n",
      "4/4 [==============================] - 0s 5ms/step\n",
      "4/4 [==============================] - 0s 6ms/step\n",
      "4/4 [==============================] - 0s 5ms/step\n",
      "4/4 [==============================] - 0s 6ms/step\n",
      "4/4 [==============================] - 0s 6ms/step\n",
      "4/4 [==============================] - 0s 6ms/step\n",
      "4/4 [==============================] - 0s 6ms/step\n",
      "4/4 [==============================] - 0s 5ms/step\n",
      "4/4 [==============================] - 0s 6ms/step\n",
      "4/4 [==============================] - 0s 4ms/step\n",
      "4/4 [==============================] - 0s 8ms/step\n",
      "4/4 [==============================] - 0s 7ms/step\n",
      "4/4 [==============================] - 0s 8ms/step\n",
      "4/4 [==============================] - 0s 6ms/step\n",
      "4/4 [==============================] - 0s 6ms/step\n",
      "4/4 [==============================] - 0s 7ms/step\n",
      "4/4 [==============================] - 0s 7ms/step\n",
      "4/4 [==============================] - 0s 6ms/step\n",
      "4/4 [==============================] - 0s 6ms/step\n",
      "4/4 [==============================] - 0s 8ms/step\n",
      "4/4 [==============================] - 0s 7ms/step\n",
      "4/4 [==============================] - 0s 7ms/step\n",
      "4/4 [==============================] - 0s 7ms/step\n",
      "4/4 [==============================] - 0s 10ms/step\n",
      "4/4 [==============================] - 0s 9ms/step\n",
      "4/4 [==============================] - 0s 9ms/step\n",
      "4/4 [==============================] - 0s 9ms/step\n",
      "4/4 [==============================] - 0s 8ms/step\n",
      "4/4 [==============================] - 0s 9ms/step\n",
      "4/4 [==============================] - 0s 7ms/step\n",
      "4/4 [==============================] - 0s 6ms/step\n",
      "4/4 [==============================] - 0s 7ms/step\n",
      "4/4 [==============================] - 0s 7ms/step\n",
      "4/4 [==============================] - 0s 7ms/step\n",
      "4/4 [==============================] - 0s 9ms/step\n",
      "4/4 [==============================] - 0s 6ms/step\n",
      "4/4 [==============================] - 0s 7ms/step\n",
      "4/4 [==============================] - 0s 7ms/step\n",
      "4/4 [==============================] - 0s 6ms/step\n",
      "4/4 [==============================] - 0s 5ms/step\n",
      "4/4 [==============================] - 0s 6ms/step\n"
     ]
    },
    {
     "name": "stdout",
     "output_type": "stream",
     "text": [
      "4/4 [==============================] - 0s 6ms/step\n",
      "4/4 [==============================] - 0s 5ms/step\n",
      "4/4 [==============================] - 0s 7ms/step\n",
      "4/4 [==============================] - 0s 8ms/step\n",
      "4/4 [==============================] - 0s 5ms/step\n",
      "4/4 [==============================] - 0s 6ms/step\n",
      "4/4 [==============================] - 0s 6ms/step\n",
      "4/4 [==============================] - 0s 6ms/step\n",
      "4/4 [==============================] - 0s 8ms/step\n",
      "4/4 [==============================] - 0s 8ms/step\n",
      "4/4 [==============================] - 0s 7ms/step\n",
      "4/4 [==============================] - 0s 5ms/step\n",
      "4/4 [==============================] - 0s 5ms/step\n",
      "4/4 [==============================] - 0s 6ms/step\n",
      "4/4 [==============================] - 0s 6ms/step\n",
      "4/4 [==============================] - 0s 7ms/step\n",
      "4/4 [==============================] - 0s 7ms/step\n",
      "4/4 [==============================] - 0s 7ms/step\n",
      "4/4 [==============================] - 0s 7ms/step\n",
      "4/4 [==============================] - 0s 7ms/step\n",
      "4/4 [==============================] - 0s 8ms/step\n",
      "4/4 [==============================] - 0s 6ms/step\n",
      "4/4 [==============================] - 0s 8ms/step\n",
      "4/4 [==============================] - 0s 8ms/step\n",
      "4/4 [==============================] - 0s 5ms/step\n",
      "4/4 [==============================] - 0s 6ms/step\n",
      "4/4 [==============================] - 0s 10ms/step\n",
      "4/4 [==============================] - 0s 7ms/step\n",
      "4/4 [==============================] - 0s 7ms/step\n",
      "4/4 [==============================] - 0s 7ms/step\n",
      "4/4 [==============================] - 0s 8ms/step\n",
      "4/4 [==============================] - 0s 7ms/step\n",
      "4/4 [==============================] - 0s 8ms/step\n",
      "4/4 [==============================] - 0s 6ms/step\n",
      "4/4 [==============================] - 0s 8ms/step\n",
      "4/4 [==============================] - 0s 7ms/step\n",
      "4/4 [==============================] - 0s 8ms/step\n",
      "4/4 [==============================] - 0s 5ms/step\n",
      "4/4 [==============================] - 0s 6ms/step\n",
      "4/4 [==============================] - 0s 5ms/step\n"
     ]
    }
   ],
   "source": [
    "# 새로운 컬럼 생성\n",
    "futsal_test['Label'] = 0\n",
    "futsal_test['percentage'] = 0\n",
    "# 0부터 99까지의 예측값을 0.5와 대소 비교\n",
    "for i in range(100):\n",
    "    if (loaded_model.predict(pad_new)[i] > 0.5):\n",
    "        futsal_test['Label'][i] = 1\n",
    "        futsal_test['percentage'][i] = loaded_model.predict(pad_new)[i]\n",
    "    else:\n",
    "        futsal_test['Label'][i] = 0\n",
    "        futsal_test['percentage'][i] = loaded_model.predict(pad_new)[i]"
   ]
  },
  {
   "cell_type": "code",
   "execution_count": 34,
   "id": "a02df43f",
   "metadata": {
    "scrolled": true
   },
   "outputs": [
    {
     "data": {
      "text/plain": [
       "1    89\n",
       "0    11\n",
       "Name: Label, dtype: int64"
      ]
     },
     "execution_count": 34,
     "metadata": {},
     "output_type": "execute_result"
    }
   ],
   "source": [
    "futsal_test['Label'].value_counts()"
   ]
  },
  {
   "cell_type": "code",
   "execution_count": 35,
   "id": "303c0222",
   "metadata": {},
   "outputs": [],
   "source": [
    "futsal_answer['Label'] = futsal_test['Label']"
   ]
  },
  {
   "cell_type": "code",
   "execution_count": 36,
   "id": "a840bb43",
   "metadata": {},
   "outputs": [
    {
     "name": "stdout",
     "output_type": "stream",
     "text": [
      "56\n"
     ]
    }
   ],
   "source": [
    "score = 0 \n",
    "for i, j in futsal_answer.iterrows():\n",
    "    if j['정답'] == j['Label']:\n",
    "        score += 1\n",
    "print(score)"
   ]
  },
  {
   "cell_type": "code",
   "execution_count": 37,
   "id": "bcca2d99",
   "metadata": {},
   "outputs": [],
   "source": [
    "# futsal_test.to_csv('분류 테스트.csv', encoding='utf-8-sig')"
   ]
  }
 ],
 "metadata": {
  "kernelspec": {
   "display_name": "Python 3 (ipykernel)",
   "language": "python",
   "name": "python3"
  },
  "language_info": {
   "codemirror_mode": {
    "name": "ipython",
    "version": 3
   },
   "file_extension": ".py",
   "mimetype": "text/x-python",
   "name": "python",
   "nbconvert_exporter": "python",
   "pygments_lexer": "ipython3",
   "version": "3.8.16"
  }
 },
 "nbformat": 4,
 "nbformat_minor": 5
}
